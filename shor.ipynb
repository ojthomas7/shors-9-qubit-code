{
 "cells": [
  {
   "cell_type": "code",
   "execution_count": 68,
   "id": "5c097633-dd03-4f4d-8537-a93e95c165fa",
   "metadata": {},
   "outputs": [
    {
     "data": {
      "image/png": "[encoded data removed]",
      "text/plain": [
       "<Figure size 640x480 with 1 Axes>"
      ]
     },
     "metadata": {},
     "output_type": "display_data"
    }
   ],
   "source": [
    "from qiskit import QuantumRegister, ClassicalRegister, QuantumCircuit\n",
    "from qiskit_aer import AerSimulator\n",
    "from qiskit.visualization import plot_histogram\n",
    "import matplotlib.pyplot as plt\n",
    "\n",
    "# initialise local simulator and quantum/ classical registers\n",
    "simulator = AerSimulator()\n",
    "\n",
    "# Part 2: Shor code with error correction\n",
    "q = QuantumRegister(9, 'q')\n",
    "c = ClassicalRegister(1, 'c')\n",
    "circuit = QuantumCircuit(q, c)\n",
    "\n",
    "#set initial qubit to 1 for example\n",
    "circuit.x(q[0])\n",
    "\n",
    "# encode qubit for both phase flip and bit-flip errors (concatenation)\n",
    "circuit.cx(q[0], q[3])\n",
    "circuit.cx(q[0], q[6])\n",
    "circuit.h(q[0])\n",
    "circuit.h(q[3])\n",
    "circuit.h(q[6])\n",
    "circuit.cx(q[0], q[1])\n",
    "circuit.cx(q[3], q[4])\n",
    "circuit.cx(q[6], q[7])\n",
    "circuit.cx(q[0], q[2])\n",
    "circuit.cx(q[3], q[5])\n",
    "circuit.cx(q[6], q[8])\n",
    "circuit.barrier()\n",
    "\n",
    "# introduce errors\n",
    "circuit.x(q[0])  # bit flip error\n",
    "circuit.z(q[0])  # phase flip error\n",
    "circuit.barrier()\n",
    "\n",
    "# perform error correction\n",
    "circuit.cx(q[0], q[1])\n",
    "circuit.cx(q[3], q[4])\n",
    "circuit.cx(q[6], q[7])\n",
    "circuit.cx(q[0], q[2])\n",
    "circuit.cx(q[3], q[5])\n",
    "circuit.cx(q[6], q[8])\n",
    "circuit.ccx(q[1], q[2], q[0])\n",
    "circuit.ccx(q[4], q[5], q[3])\n",
    "circuit.ccx(q[8], q[7], q[6])\n",
    "circuit.h(q[0])\n",
    "circuit.h(q[3])\n",
    "circuit.h(q[6])\n",
    "circuit.cx(q[0], q[3])\n",
    "circuit.cx(q[0], q[6])\n",
    "circuit.ccx(q[6], q[3], q[0])\n",
    "circuit.barrier()\n",
    "\n",
    "# measure logical qubit\n",
    "circuit.measure(q[0], c[0])\n",
    "\n",
    "# Simulate\n",
    "job = simulator.run(circuit, shots=1000)\n",
    "result = job.result()\n",
    "counts = result.get_counts()\n",
    "\n",
    "circuit.draw(output='mpl', filename='shorcode.png')\n",
    "circuit.draw()\n",
    "counts\n",
    "\n",
    "plt.hist(counts)\n",
    "\n",
    "# Save histogram to file\n",
    "plt.savefig('histogram.png')"
   ]
  },
  {
   "cell_type": "code",
   "execution_count": null,
   "id": "ead7092a-ff5d-4ce1-bf8c-4e6f4fc2bd8d",
   "metadata": {},
   "outputs": [],
   "source": []
  }
 ],
 "metadata": {
  "kernelspec": {
   "display_name": "Python 3 (ipykernel)",
   "language": "python",
   "name": "python3"
  },
  "language_info": {
   "codemirror_mode": {
    "name": "ipython",
    "version": 3
   },
   "file_extension": ".py",
   "mimetype": "text/x-python",
   "name": "python",
   "nbconvert_exporter": "python",
   "pygments_lexer": "ipython3",
   "version": "3.11.7"
  }
 },
 "nbformat": 4,
 "nbformat_minor": 5
}
